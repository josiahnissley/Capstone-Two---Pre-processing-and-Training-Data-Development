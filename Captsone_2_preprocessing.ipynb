{
 "cells": [
  {
   "cell_type": "markdown",
   "id": "204380ec",
   "metadata": {},
   "source": [
    "# Import Packages & Create Dataframes"
   ]
  },
  {
   "cell_type": "code",
   "execution_count": 1,
   "id": "8f3d8da3",
   "metadata": {},
   "outputs": [],
   "source": [
    "#import packages\n",
    "import pandas as pd\n",
    "import pyspark"
   ]
  },
  {
   "cell_type": "code",
   "execution_count": 2,
   "id": "bc224c49",
   "metadata": {},
   "outputs": [],
   "source": [
    "#import behaviors file\n",
    "behaviors = pd.read_csv(r\"C:\\Users\\josia\\Desktop\\Capstone_Project\\MINDlarge_train\\behaviors.tsv\", sep='\\t')"
   ]
  },
  {
   "cell_type": "code",
   "execution_count": 3,
   "id": "9be9ae64",
   "metadata": {},
   "outputs": [],
   "source": [
    "#convert behavior data to dataframe\n",
    "b_df = pd.DataFrame(behaviors)"
   ]
  },
  {
   "cell_type": "markdown",
   "id": "d240a15d",
   "metadata": {},
   "source": [
    "# Examine the behavior data"
   ]
  },
  {
   "cell_type": "code",
   "execution_count": 4,
   "id": "93c4cf7f",
   "metadata": {},
   "outputs": [
    {
     "name": "stdout",
     "output_type": "stream",
     "text": [
      "<class 'pandas.core.frame.DataFrame'>\n",
      "RangeIndex: 2232747 entries, 0 to 2232746\n",
      "Data columns (total 5 columns):\n",
      " #   Column                                                                                                                                                                     Dtype \n",
      "---  ------                                                                                                                                                                     ----- \n",
      " 0   1                                                                                                                                                                          int64 \n",
      " 1   U87243                                                                                                                                                                     object\n",
      " 2   11/10/2019 11:30:54 AM                                                                                                                                                     object\n",
      " 3   N8668 N39081 N65259 N79529 N73408 N43615 N29379 N32031 N110232 N101921 N12614 N129591 N105760 N60457 N1229 N64932                                                          object\n",
      " 4   N78206-0 N26368-0 N7578-0 N58592-0 N19858-0 N58258-0 N18478-0 N2591-0 N97778-0 N32954-0 N94157-1 N39404-0 N108809-0 N78699-1 N71090-1 N40282-0 N31174-1 N37924-0 N27822-0  object\n",
      "dtypes: int64(1), object(4)\n",
      "memory usage: 85.2+ MB\n"
     ]
    }
   ],
   "source": [
    "b_df.info()"
   ]
  },
  {
   "cell_type": "code",
   "execution_count": 5,
   "id": "3580243e",
   "metadata": {},
   "outputs": [
    {
     "name": "stdout",
     "output_type": "stream",
     "text": [
      "   1   U87243  11/10/2019 11:30:54 AM  \\\n",
      "0  2  U598644   11/12/2019 1:45:29 PM   \n",
      "1  3  U532401  11/13/2019 11:23:03 AM   \n",
      "2  4  U593596  11/12/2019 12:24:09 PM   \n",
      "3  5  U239687   11/14/2019 8:03:01 PM   \n",
      "4  6  U521853  11/11/2019 10:47:31 AM   \n",
      "\n",
      "  N8668 N39081 N65259 N79529 N73408 N43615 N29379 N32031 N110232 N101921 N12614 N129591 N105760 N60457 N1229 N64932  \\\n",
      "0  N56056 N8726 N70353 N67998 N83823 N111108 N107...                                                                  \n",
      "1  N128643 N87446 N122948 N9375 N82348 N129412 N5...                                                                  \n",
      "2  N31043 N39592 N4104 N8223 N114581 N92747 N1207...                                                                  \n",
      "3  N65250 N122359 N71723 N53796 N41663 N41484 N11...                                                                  \n",
      "4  N8668 N29136 N128643 N9740 N9375 N52911 N12090...                                                                  \n",
      "\n",
      "  N78206-0 N26368-0 N7578-0 N58592-0 N19858-0 N58258-0 N18478-0 N2591-0 N97778-0 N32954-0 N94157-1 N39404-0 N108809-0 N78699-1 N71090-1 N40282-0 N31174-1 N37924-0 N27822-0  \n",
      "0  N47996-0 N82719-0 N117066-0 N8491-0 N123784-0 ...                                                                                                                         \n",
      "1              N103852-0 N53474-0 N127836-0 N47925-1                                                                                                                         \n",
      "2  N38902-0 N76434-0 N71593-0 N100073-0 N108736-0...                                                                                                                         \n",
      "3  N76209-0 N48841-0 N67937-0 N62235-0 N6307-0 N3...                                                                                                                         \n",
      "4                N32154-0 N67747-0 N47257-0 N98178-1                                                                                                                         \n"
     ]
    }
   ],
   "source": [
    "print(b_df.head())"
   ]
  },
  {
   "cell_type": "code",
   "execution_count": 6,
   "id": "d802e24f",
   "metadata": {},
   "outputs": [],
   "source": [
    "#Create column names based on dataset legend found elsewhere\n",
    "b_column_names = ['Impression_ID', 'User_ID', 'Time', 'History', 'Impressions']\n",
    "b_df.columns = b_column_names"
   ]
  },
  {
   "cell_type": "code",
   "execution_count": 7,
   "id": "0c6bece8",
   "metadata": {},
   "outputs": [
    {
     "name": "stdout",
     "output_type": "stream",
     "text": [
      "   Impression_ID  User_ID                    Time  \\\n",
      "0              2  U598644   11/12/2019 1:45:29 PM   \n",
      "1              3  U532401  11/13/2019 11:23:03 AM   \n",
      "2              4  U593596  11/12/2019 12:24:09 PM   \n",
      "3              5  U239687   11/14/2019 8:03:01 PM   \n",
      "4              6  U521853  11/11/2019 10:47:31 AM   \n",
      "\n",
      "                                             History  \\\n",
      "0  N56056 N8726 N70353 N67998 N83823 N111108 N107...   \n",
      "1  N128643 N87446 N122948 N9375 N82348 N129412 N5...   \n",
      "2  N31043 N39592 N4104 N8223 N114581 N92747 N1207...   \n",
      "3  N65250 N122359 N71723 N53796 N41663 N41484 N11...   \n",
      "4  N8668 N29136 N128643 N9740 N9375 N52911 N12090...   \n",
      "\n",
      "                                         Impressions  \n",
      "0  N47996-0 N82719-0 N117066-0 N8491-0 N123784-0 ...  \n",
      "1              N103852-0 N53474-0 N127836-0 N47925-1  \n",
      "2  N38902-0 N76434-0 N71593-0 N100073-0 N108736-0...  \n",
      "3  N76209-0 N48841-0 N67937-0 N62235-0 N6307-0 N3...  \n",
      "4                N32154-0 N67747-0 N47257-0 N98178-1  \n"
     ]
    }
   ],
   "source": [
    "print(b_df.head())"
   ]
  },
  {
   "cell_type": "markdown",
   "id": "4f739985",
   "metadata": {},
   "source": [
    "randomly sample^^ ??\n",
    "store random sample into b_df"
   ]
  },
  {
   "cell_type": "code",
   "execution_count": 8,
   "id": "fd2fbf48",
   "metadata": {},
   "outputs": [],
   "source": [
    "b_df = b_df.sample(n=1000, random_state=1)"
   ]
  },
  {
   "cell_type": "code",
   "execution_count": 9,
   "id": "b8a81ed9",
   "metadata": {},
   "outputs": [
    {
     "name": "stdout",
     "output_type": "stream",
     "text": [
      "1837023    N67123-0 N100343-0 N23823-0 N8719-0 N11682-0 N...\n",
      "1328700    N8599-0 N8236-0 N56873-0 N76665-0 N51163-0 N65...\n",
      "1645076         N53474-0 N5287-0 N113723-1 N24701-1 N76677-0\n",
      "2155197    N90184-0 N67937-0 N81374-0 N15403-1 N48015-0 N...\n",
      "527583     N96356-0 N73137-0 N52435-0 N31766-0 N118589-0 ...\n",
      "Name: Impressions, dtype: object\n"
     ]
    }
   ],
   "source": [
    "print(b_df['Impressions'].head())"
   ]
  },
  {
   "cell_type": "markdown",
   "id": "81039e12",
   "metadata": {},
   "source": [
    "# Data Legend & Next Steps"
   ]
  },
  {
   "cell_type": "raw",
   "id": "41e89dd9",
   "metadata": {},
   "source": [
    "Behavior Data: \n",
    "\n",
    "Impression ID = The ID of an impression.\n",
    "User ID = The anonymous ID of a user.\n",
    "Time = The impression time with format “MM/DD/YYYY HH:MM:SS AM/PM”.\n",
    "History = The news click history (ID list of clicked news) of this user before this impression.\n",
    "Impressions = List of news displayed in this impression and user’s click behaviors on them (1 for click and 0 for non-click).\n",
    "\n",
    "COLUMN\tCONTENT\n",
    "Impression ID:\t123\n",
    "User ID:\tU131\n",
    "Time:\t11/13/2019 8:36:57 AM\n",
    "History:\tN11 N21 N103\n",
    "Impressions:\tN4-1 N34-1 N156-0 N207-0 N198-0\n",
    "\n",
    "\n",
    "______________________________________________________________________________\n",
    "\n",
    "\n",
    "What Data do I need?\n",
    "\n",
    "User-Item matrix:\n",
    "    User = User_ID \n",
    "    Item = Impressions & History\n",
    "        \n",
    "What Data do I not need for my user-item matrix?\n",
    "\n",
    "- URL\n",
    "- Title Entries\n",
    "- Abstract\n",
    "- ????"
   ]
  },
  {
   "cell_type": "markdown",
   "id": "5715d617",
   "metadata": {},
   "source": [
    "# Wrangle the Behavior data"
   ]
  },
  {
   "cell_type": "code",
   "execution_count": 10,
   "id": "c3192f84",
   "metadata": {},
   "outputs": [],
   "source": [
    "#Group data by User ID\n",
    "b_df_g = b_df.sort_values(by = 'User_ID')"
   ]
  },
  {
   "cell_type": "code",
   "execution_count": 11,
   "id": "78e24f63",
   "metadata": {},
   "outputs": [
    {
     "name": "stdout",
     "output_type": "stream",
     "text": [
      "Impression_ID     0\n",
      "User_ID           0\n",
      "Time              0\n",
      "History          24\n",
      "Impressions       0\n",
      "dtype: int64\n"
     ]
    }
   ],
   "source": [
    "#Check for missing values\n",
    "b_df_g_missing = b_df_g.isnull().sum()\n",
    "print(b_df_g_missing)"
   ]
  },
  {
   "cell_type": "code",
   "execution_count": 12,
   "id": "5998479a",
   "metadata": {},
   "outputs": [],
   "source": [
    "#Examine type of missing value\n",
    "b_df_g_hist_miss = b_df_g['History'].isnull()"
   ]
  },
  {
   "cell_type": "code",
   "execution_count": 13,
   "id": "821b28d1",
   "metadata": {},
   "outputs": [
    {
     "name": "stdout",
     "output_type": "stream",
     "text": [
      "746803     False\n",
      "1788588    False\n",
      "1044349    False\n",
      "840718     False\n",
      "1719838    False\n",
      "           ...  \n",
      "1095245    False\n",
      "2134768    False\n",
      "1927012    False\n",
      "349753     False\n",
      "552070     False\n",
      "Name: History, Length: 1000, dtype: bool\n"
     ]
    }
   ],
   "source": [
    "print(b_df_g_hist_miss)"
   ]
  },
  {
   "cell_type": "code",
   "execution_count": 14,
   "id": "28c93a7d",
   "metadata": {},
   "outputs": [
    {
     "name": "stdout",
     "output_type": "stream",
     "text": [
      "Impression_ID    0\n",
      "User_ID          0\n",
      "Time             0\n",
      "History          0\n",
      "Impressions      0\n",
      "dtype: int64\n"
     ]
    }
   ],
   "source": [
    "#Drop all rows with missing value\n",
    "b_df_g_drop = b_df_g.dropna()\n",
    "print(b_df_g_drop.isnull().sum())"
   ]
  },
  {
   "cell_type": "code",
   "execution_count": 15,
   "id": "02cbb9fa",
   "metadata": {},
   "outputs": [
    {
     "name": "stdout",
     "output_type": "stream",
     "text": [
      "976\n"
     ]
    }
   ],
   "source": [
    "#Check to see how many remaining rows with data there are\n",
    "print(b_df_g_drop.shape[0])"
   ]
  },
  {
   "cell_type": "code",
   "execution_count": 16,
   "id": "ca63dbd5",
   "metadata": {},
   "outputs": [
    {
     "name": "stdout",
     "output_type": "stream",
     "text": [
      "         User_ID                                            History  \\\n",
      "746803   U100159                                             N59700   \n",
      "1788588  U100253  N94639 N104181 N6612 N86208 N1229 N10000 N6317...   \n",
      "1044349  U100346  N90185 N61319 N15797 N65119 N94639 N52595 N769...   \n",
      "840718   U100602  N67127 N31305 N63723 N75655 N82474 N105205 N71...   \n",
      "1719838  U102239         N128965 N90630 N50274 N123400 N6930 N91597   \n",
      "...          ...                                                ...   \n",
      "1095245   U94628  N128965 N31043 N9375 N95100 N113932 N106155 N1...   \n",
      "2134768   U95270  N27587 N15899 N93049 N72590 N71977 N91597 N915...   \n",
      "1927012   U95990  N127337 N29265 N80126 N79285 N10766 N65299 N73...   \n",
      "349753    U96367  N15833 N52075 N47788 N19175 N22633 N112687 N10...   \n",
      "552070    U96536  N128965 N31043 N9375 N12326 N94639 N58992 N769...   \n",
      "\n",
      "                                               Impressions  \n",
      "746803   N2750-0 N59301-0 N60135-0 N116647-0 N92498-1 N...  \n",
      "1788588  N123784-0 N88472-0 N100846-0 N72609-1 N46229-0...  \n",
      "1044349  N128940-0 N125953-0 N71788-0 N93674-0 N25597-0...  \n",
      "840718                N32154-1 N37658-0 N116694-0 N74360-0  \n",
      "1719838  N31879-0 N54015-0 N86429-0 N112156-0 N55792-0 ...  \n",
      "...                                                    ...  \n",
      "1095245  N36512-0 N76721-0 N37106-0 N31385-0 N17575-0 N...  \n",
      "2134768                                  N74875-1 N45410-0  \n",
      "1927012     N33037-0 N55792-0 N125945-0 N123077-0 N31879-1  \n",
      "349753   N53271-0 N95525-0 N73137-0 N59654-0 N55579-0 N...  \n",
      "552070   N58102-0 N98178-1 N36512-0 N28421-0 N70923-0 N...  \n",
      "\n",
      "[976 rows x 3 columns]\n"
     ]
    }
   ],
   "source": [
    "#Drop 'Impression_ID' and 'Time' columns as they do not pertain to my use case\n",
    "columns_to_drop = ['Impression_ID', 'Time']\n",
    "b_df_g_c_drop = b_df_g_drop.drop(columns = columns_to_drop)\n",
    "print(b_df_g_c_drop)"
   ]
  },
  {
   "cell_type": "code",
   "execution_count": 17,
   "id": "19dcb5cc",
   "metadata": {},
   "outputs": [],
   "source": [
    "#rename data frame\n",
    "b_df = b_df_g_c_drop"
   ]
  },
  {
   "cell_type": "code",
   "execution_count": 18,
   "id": "2bd900e2",
   "metadata": {},
   "outputs": [
    {
     "data": {
      "text/plain": [
       "User_ID        object\n",
       "History        object\n",
       "Impressions    object\n",
       "dtype: object"
      ]
     },
     "execution_count": 18,
     "metadata": {},
     "output_type": "execute_result"
    }
   ],
   "source": [
    "b_df.dtypes"
   ]
  },
  {
   "cell_type": "code",
   "execution_count": 19,
   "id": "1dde61ae",
   "metadata": {
    "scrolled": true
   },
   "outputs": [
    {
     "name": "stdout",
     "output_type": "stream",
     "text": [
      "     User_ID                                            History  \\\n",
      "0    U100159                                             N59700   \n",
      "1    U100253  N94639 N104181 N6612 N86208 N1229 N10000 N6317...   \n",
      "2    U100346  N90185 N61319 N15797 N65119 N94639 N52595 N769...   \n",
      "3    U100602  N67127 N31305 N63723 N75655 N82474 N105205 N71...   \n",
      "4    U102239         N128965 N90630 N50274 N123400 N6930 N91597   \n",
      "..       ...                                                ...   \n",
      "970   U94628  N128965 N31043 N9375 N95100 N113932 N106155 N1...   \n",
      "971   U95270  N27587 N15899 N93049 N72590 N71977 N91597 N915...   \n",
      "972   U95990  N127337 N29265 N80126 N79285 N10766 N65299 N73...   \n",
      "973   U96367  N15833 N52075 N47788 N19175 N22633 N112687 N10...   \n",
      "974   U96536  N128965 N31043 N9375 N12326 N94639 N58992 N769...   \n",
      "\n",
      "                                           Impressions  \n",
      "0    N2750-0 N59301-0 N60135-0 N116647-0 N92498-1 N...  \n",
      "1    N123784-0 N88472-0 N100846-0 N72609-1 N46229-0...  \n",
      "2    N128940-0 N125953-0 N71788-0 N93674-0 N25597-0...  \n",
      "3                 N32154-1 N37658-0 N116694-0 N74360-0  \n",
      "4    N31879-0 N54015-0 N86429-0 N112156-0 N55792-0 ...  \n",
      "..                                                 ...  \n",
      "970  N36512-0 N76721-0 N37106-0 N31385-0 N17575-0 N...  \n",
      "971                                  N74875-1 N45410-0  \n",
      "972     N33037-0 N55792-0 N125945-0 N123077-0 N31879-1  \n",
      "973  N53271-0 N95525-0 N73137-0 N59654-0 N55579-0 N...  \n",
      "974  N58102-0 N98178-1 N36512-0 N28421-0 N70923-0 N...  \n",
      "\n",
      "[975 rows x 3 columns]\n"
     ]
    }
   ],
   "source": [
    "#group data by User_ID\n",
    "grouped_df = b_df.groupby('User_ID').agg({\n",
    "    'History': lambda x: ','.join(x),  # Combine all 'History' values into one string\n",
    "    'Impressions': lambda x: ','.join(x)  # Combine all 'Impressions' values into one string\n",
    "}).reset_index()\n",
    "\n",
    "# Step 2: Remove duplicates within each combined string\n",
    "grouped_df['History'] = grouped_df['History'].apply(lambda x: ','.join(set(x.split(','))))\n",
    "grouped_df['Impressions'] = grouped_df['Impressions'].apply(lambda x: ','.join(set(x.split(','))))\n",
    "\n",
    "print(grouped_df)"
   ]
  },
  {
   "cell_type": "code",
   "execution_count": 20,
   "id": "19a663cf",
   "metadata": {},
   "outputs": [
    {
     "data": {
      "text/plain": [
       "User_ID        object\n",
       "History        object\n",
       "Impressions    object\n",
       "dtype: object"
      ]
     },
     "execution_count": 20,
     "metadata": {},
     "output_type": "execute_result"
    }
   ],
   "source": [
    "grouped_df.dtypes"
   ]
  },
  {
   "cell_type": "code",
   "execution_count": 21,
   "id": "6bc799e2",
   "metadata": {},
   "outputs": [
    {
     "name": "stdout",
     "output_type": "stream",
     "text": [
      "     User_ID                                            History  \\\n",
      "0    U100159                                           N59700-1   \n",
      "1    U100253  N94639-1 N104181-1 N6612-1 N86208-1 N1229-1 N1...   \n",
      "2    U100346  N90185-1 N61319-1 N15797-1 N65119-1 N94639-1 N...   \n",
      "3    U100602  N67127-1 N31305-1 N63723-1 N75655-1 N82474-1 N...   \n",
      "4    U102239  N128965-1 N90630-1 N50274-1 N123400-1 N6930-1 ...   \n",
      "..       ...                                                ...   \n",
      "970   U94628  N128965-1 N31043-1 N9375-1 N95100-1 N113932-1 ...   \n",
      "971   U95270  N27587-1 N15899-1 N93049-1 N72590-1 N71977-1 N...   \n",
      "972   U95990  N127337-1 N29265-1 N80126-1 N79285-1 N10766-1 ...   \n",
      "973   U96367  N15833-1 N52075-1 N47788-1 N19175-1 N22633-1 N...   \n",
      "974   U96536  N128965-1 N31043-1 N9375-1 N12326-1 N94639-1 N...   \n",
      "\n",
      "                                           Impressions  \n",
      "0    N2750-0 N59301-0 N60135-0 N116647-0 N92498-1 N...  \n",
      "1    N123784-0 N88472-0 N100846-0 N72609-1 N46229-0...  \n",
      "2    N128940-0 N125953-0 N71788-0 N93674-0 N25597-0...  \n",
      "3                 N32154-1 N37658-0 N116694-0 N74360-0  \n",
      "4    N31879-0 N54015-0 N86429-0 N112156-0 N55792-0 ...  \n",
      "..                                                 ...  \n",
      "970  N36512-0 N76721-0 N37106-0 N31385-0 N17575-0 N...  \n",
      "971                                  N74875-1 N45410-0  \n",
      "972     N33037-0 N55792-0 N125945-0 N123077-0 N31879-1  \n",
      "973  N53271-0 N95525-0 N73137-0 N59654-0 N55579-0 N...  \n",
      "974  N58102-0 N98178-1 N36512-0 N28421-0 N70923-0 N...  \n",
      "\n",
      "[975 rows x 3 columns]\n"
     ]
    }
   ],
   "source": [
    "# Function to add \"-1\" to each ID and join back with spaces\n",
    "def add_suffix_to_ids(ids_string):\n",
    "    ids_list = ids_string.split()  # Split the string of IDs into a list\n",
    "    ids_list_with_suffix = [id + '-1' for id in ids_list]  # Add \"-1\" to each ID\n",
    "    return ' '.join(ids_list_with_suffix)  # Join the modified IDs back with spaces\n",
    "\n",
    "# Apply the function to the 'History' column\n",
    "grouped_df['History'] = grouped_df['History'].apply(add_suffix_to_ids)\n",
    "\n",
    "# Display the updated DataFrame\n",
    "print(grouped_df)"
   ]
  },
  {
   "cell_type": "code",
   "execution_count": 22,
   "id": "4f221ee9",
   "metadata": {},
   "outputs": [
    {
     "name": "stdout",
     "output_type": "stream",
     "text": [
      "     User_ID                                            History  \\\n",
      "0    U100159                                           N59700-1   \n",
      "1    U100253  N94639-1 N104181-1 N6612-1 N86208-1 N1229-1 N1...   \n",
      "2    U100346  N90185-1 N61319-1 N15797-1 N65119-1 N94639-1 N...   \n",
      "3    U100602  N67127-1 N31305-1 N63723-1 N75655-1 N82474-1 N...   \n",
      "4    U102239  N128965-1 N90630-1 N50274-1 N123400-1 N6930-1 ...   \n",
      "..       ...                                                ...   \n",
      "970   U94628  N128965-1 N31043-1 N9375-1 N95100-1 N113932-1 ...   \n",
      "971   U95270  N27587-1 N15899-1 N93049-1 N72590-1 N71977-1 N...   \n",
      "972   U95990  N127337-1 N29265-1 N80126-1 N79285-1 N10766-1 ...   \n",
      "973   U96367  N15833-1 N52075-1 N47788-1 N19175-1 N22633-1 N...   \n",
      "974   U96536  N128965-1 N31043-1 N9375-1 N12326-1 N94639-1 N...   \n",
      "\n",
      "                                           Impressions  \\\n",
      "0    N2750-0 N59301-0 N60135-0 N116647-0 N92498-1 N...   \n",
      "1    N123784-0 N88472-0 N100846-0 N72609-1 N46229-0...   \n",
      "2    N128940-0 N125953-0 N71788-0 N93674-0 N25597-0...   \n",
      "3                 N32154-1 N37658-0 N116694-0 N74360-0   \n",
      "4    N31879-0 N54015-0 N86429-0 N112156-0 N55792-0 ...   \n",
      "..                                                 ...   \n",
      "970  N36512-0 N76721-0 N37106-0 N31385-0 N17575-0 N...   \n",
      "971                                  N74875-1 N45410-0   \n",
      "972     N33037-0 N55792-0 N125945-0 N123077-0 N31879-1   \n",
      "973  N53271-0 N95525-0 N73137-0 N59654-0 N55579-0 N...   \n",
      "974  N58102-0 N98178-1 N36512-0 N28421-0 N70923-0 N...   \n",
      "\n",
      "                                              Combined  \n",
      "0    N18539-0 N83412-0 N92498-1 N52079-0 N115021-0 ...  \n",
      "1    N63174-1 N89409-0 N128367-0 N123784-0 N46229-0...  \n",
      "2    N95341-0 N8475-0 N96337-0 N49466-0 N86429-0 N1...  \n",
      "3    N63723-1 N76810-1 N108832-1 N50645-1 N102443-1...  \n",
      "4    N123234-0 N87855-0 N31879-0 N55792-0 N47026-0 ...  \n",
      "..                                                 ...  \n",
      "970  N9191-1 N64149-0 N91047-0 N425-0 N73137-0 N542...  \n",
      "971  N27587-1 N45410-0 N74875-1 N71977-1 N91597-1 N...  \n",
      "972  N72590-1 N125945-0 N65299-1 N31879-1 N127337-1...  \n",
      "973  N53271-0 N59654-0 N52075-1 N73137-0 N55579-0 N...  \n",
      "974  N39948-1 N58200-1 N112665-1 N425-0 N91597-1 N1...  \n",
      "\n",
      "[975 rows x 4 columns]\n"
     ]
    }
   ],
   "source": [
    "#combine the history and impressions columns together\n",
    "def combine_history_impressions(row):\n",
    "    history_list = row['History'].split()  # Split 'History' string into a list of IDs\n",
    "    impressions_list = row['Impressions'].split()  # Split 'Impressions' string into a list of IDs\n",
    "    combined_list = list(set(history_list + impressions_list))  # Combine and remove duplicates\n",
    "    combined_string = ' '.join(combined_list)  # Join the combined list back into a string\n",
    "    return combined_string\n",
    "\n",
    "# Apply the function to create a new 'Combined' column\n",
    "grouped_df['Combined'] = grouped_df.apply(combine_history_impressions, axis=1)\n",
    "\n",
    "# Display the updated DataFrame\n",
    "print(grouped_df)"
   ]
  },
  {
   "cell_type": "code",
   "execution_count": 23,
   "id": "a3c5a99c",
   "metadata": {},
   "outputs": [],
   "source": [
    "#drop impressions and history columns\n",
    "column_list = ['Impressions', 'History']\n",
    "grouped_df.drop(columns = column_list, inplace=True)"
   ]
  },
  {
   "cell_type": "code",
   "execution_count": 24,
   "id": "5e4b695c",
   "metadata": {},
   "outputs": [
    {
     "name": "stdout",
     "output_type": "stream",
     "text": [
      "     User_ID                                           Combined\n",
      "0    U100159  N18539-0 N83412-0 N92498-1 N52079-0 N115021-0 ...\n",
      "1    U100253  N63174-1 N89409-0 N128367-0 N123784-0 N46229-0...\n",
      "2    U100346  N95341-0 N8475-0 N96337-0 N49466-0 N86429-0 N1...\n",
      "3    U100602  N63723-1 N76810-1 N108832-1 N50645-1 N102443-1...\n",
      "4    U102239  N123234-0 N87855-0 N31879-0 N55792-0 N47026-0 ...\n",
      "..       ...                                                ...\n",
      "970   U94628  N9191-1 N64149-0 N91047-0 N425-0 N73137-0 N542...\n",
      "971   U95270  N27587-1 N45410-0 N74875-1 N71977-1 N91597-1 N...\n",
      "972   U95990  N72590-1 N125945-0 N65299-1 N31879-1 N127337-1...\n",
      "973   U96367  N53271-0 N59654-0 N52075-1 N73137-0 N55579-0 N...\n",
      "974   U96536  N39948-1 N58200-1 N112665-1 N425-0 N91597-1 N1...\n",
      "\n",
      "[975 rows x 2 columns]\n"
     ]
    }
   ],
   "source": [
    "print(grouped_df)"
   ]
  },
  {
   "cell_type": "code",
   "execution_count": 25,
   "id": "27be7aae",
   "metadata": {},
   "outputs": [
    {
     "name": "stdout",
     "output_type": "stream",
     "text": [
      "     User_ID                                        Impressions\n",
      "0    U100159  N18539-0 N83412-0 N92498-1 N52079-0 N115021-0 ...\n",
      "1    U100253  N63174-1 N89409-0 N128367-0 N123784-0 N46229-0...\n",
      "2    U100346  N95341-0 N8475-0 N96337-0 N49466-0 N86429-0 N1...\n",
      "3    U100602  N63723-1 N76810-1 N108832-1 N50645-1 N102443-1...\n",
      "4    U102239  N123234-0 N87855-0 N31879-0 N55792-0 N47026-0 ...\n",
      "..       ...                                                ...\n",
      "970   U94628  N9191-1 N64149-0 N91047-0 N425-0 N73137-0 N542...\n",
      "971   U95270  N27587-1 N45410-0 N74875-1 N71977-1 N91597-1 N...\n",
      "972   U95990  N72590-1 N125945-0 N65299-1 N31879-1 N127337-1...\n",
      "973   U96367  N53271-0 N59654-0 N52075-1 N73137-0 N55579-0 N...\n",
      "974   U96536  N39948-1 N58200-1 N112665-1 N425-0 N91597-1 N1...\n",
      "\n",
      "[975 rows x 2 columns]\n"
     ]
    }
   ],
   "source": [
    "#renamed combined column\n",
    "grouped_df.rename(columns={'Combined': 'Impressions'}, inplace=True)\n",
    "print(grouped_df)"
   ]
  },
  {
   "cell_type": "code",
   "execution_count": 26,
   "id": "8d84063e",
   "metadata": {},
   "outputs": [],
   "source": [
    "#rename df back to b_df\n",
    "b_df = grouped_df"
   ]
  },
  {
   "cell_type": "code",
   "execution_count": 27,
   "id": "80c85289",
   "metadata": {},
   "outputs": [
    {
     "data": {
      "text/plain": [
       "User_ID        0\n",
       "Impressions    0\n",
       "dtype: int64"
      ]
     },
     "execution_count": 27,
     "metadata": {},
     "output_type": "execute_result"
    }
   ],
   "source": [
    "#Check for missing values\n",
    "b_df.isnull().sum()"
   ]
  },
  {
   "cell_type": "code",
   "execution_count": 28,
   "id": "8964b2f8",
   "metadata": {},
   "outputs": [
    {
     "data": {
      "text/plain": [
       "0"
      ]
     },
     "execution_count": 28,
     "metadata": {},
     "output_type": "execute_result"
    }
   ],
   "source": [
    "#Check for duplicates\n",
    "b_df.duplicated().sum()"
   ]
  },
  {
   "cell_type": "markdown",
   "id": "46b4a5b1",
   "metadata": {},
   "source": [
    "# Prepare for User-Item Matrix"
   ]
  },
  {
   "cell_type": "code",
   "execution_count": 29,
   "id": "77043736",
   "metadata": {},
   "outputs": [
    {
     "name": "stdout",
     "output_type": "stream",
     "text": [
      "       User_ID                                        Impressions  \\\n",
      "0      U100159  N18539-0 N83412-0 N92498-1 N52079-0 N115021-0 ...   \n",
      "1      U100159  N18539-0 N83412-0 N92498-1 N52079-0 N115021-0 ...   \n",
      "2      U100159  N18539-0 N83412-0 N92498-1 N52079-0 N115021-0 ...   \n",
      "3      U100159  N18539-0 N83412-0 N92498-1 N52079-0 N115021-0 ...   \n",
      "4      U100159  N18539-0 N83412-0 N92498-1 N52079-0 N115021-0 ...   \n",
      "...        ...                                                ...   \n",
      "70657   U96536  N39948-1 N58200-1 N112665-1 N425-0 N91597-1 N1...   \n",
      "70658   U96536  N39948-1 N58200-1 N112665-1 N425-0 N91597-1 N1...   \n",
      "70659   U96536  N39948-1 N58200-1 N112665-1 N425-0 N91597-1 N1...   \n",
      "70660   U96536  N39948-1 N58200-1 N112665-1 N425-0 N91597-1 N1...   \n",
      "70661   U96536  N39948-1 N58200-1 N112665-1 N425-0 N91597-1 N1...   \n",
      "\n",
      "      Impression_ID  \n",
      "0          N18539-0  \n",
      "1          N83412-0  \n",
      "2          N92498-1  \n",
      "3          N52079-0  \n",
      "4         N115021-0  \n",
      "...             ...  \n",
      "70657     N117709-1  \n",
      "70658      N31043-1  \n",
      "70659      N82158-1  \n",
      "70660      N58992-1  \n",
      "70661     N100832-1  \n",
      "\n",
      "[70662 rows x 3 columns]\n"
     ]
    }
   ],
   "source": [
    "#reassign dataframe\n",
    "b_df_final = b_df\n",
    "\n",
    "# Define batch size\n",
    "batch_size = 1000  # Adjust according to memory constraints\n",
    "\n",
    "# Process DataFrame in chunks\n",
    "chunks = [b_df_final[i:i+batch_size] for i in range(0, len(b_df_final), batch_size)]\n",
    "expanded_dfs = []\n",
    "\n",
    "for chunk in chunks:\n",
    "    expanded_df = chunk.assign(Impression_ID=chunk['Impressions'].str.split()).explode('Impression_ID')\n",
    "    expanded_df.rename(columns={'User_ID': 'User_ID', 'Impression_ID': 'Impression_ID'}, inplace=True)\n",
    "    expanded_dfs.append(expanded_df)\n",
    "\n",
    "# Concatenate all expanded DataFrames\n",
    "b_df_final = pd.concat(expanded_dfs, ignore_index=True)\n",
    "\n",
    "print(b_df_final)\n"
   ]
  },
  {
   "cell_type": "code",
   "execution_count": 30,
   "id": "ade8d551",
   "metadata": {},
   "outputs": [],
   "source": [
    "b_df_final.drop(['Impressions'], axis=1, inplace = True)"
   ]
  },
  {
   "cell_type": "code",
   "execution_count": 31,
   "id": "308e16ad",
   "metadata": {},
   "outputs": [
    {
     "name": "stdout",
     "output_type": "stream",
     "text": [
      "       User_ID Impression_ID\n",
      "0      U100159      N18539-0\n",
      "1      U100159      N83412-0\n",
      "2      U100159      N92498-1\n",
      "3      U100159      N52079-0\n",
      "4      U100159     N115021-0\n",
      "...        ...           ...\n",
      "70657   U96536     N117709-1\n",
      "70658   U96536      N31043-1\n",
      "70659   U96536      N82158-1\n",
      "70660   U96536      N58992-1\n",
      "70661   U96536     N100832-1\n",
      "\n",
      "[70662 rows x 2 columns]\n"
     ]
    }
   ],
   "source": [
    "print(b_df_final)"
   ]
  },
  {
   "cell_type": "code",
   "execution_count": 32,
   "id": "20631373",
   "metadata": {},
   "outputs": [
    {
     "data": {
      "text/html": [
       "<div>\n",
       "<style scoped>\n",
       "    .dataframe tbody tr th:only-of-type {\n",
       "        vertical-align: middle;\n",
       "    }\n",
       "\n",
       "    .dataframe tbody tr th {\n",
       "        vertical-align: top;\n",
       "    }\n",
       "\n",
       "    .dataframe thead th {\n",
       "        text-align: right;\n",
       "    }\n",
       "</style>\n",
       "<table border=\"1\" class=\"dataframe\">\n",
       "  <thead>\n",
       "    <tr style=\"text-align: right;\">\n",
       "      <th></th>\n",
       "      <th>User_ID</th>\n",
       "      <th>Impression_ID</th>\n",
       "    </tr>\n",
       "  </thead>\n",
       "  <tbody>\n",
       "    <tr>\n",
       "      <th>9995</th>\n",
       "      <td>U189932</td>\n",
       "      <td>N16614-1</td>\n",
       "    </tr>\n",
       "    <tr>\n",
       "      <th>9996</th>\n",
       "      <td>U189932</td>\n",
       "      <td>N35782-0</td>\n",
       "    </tr>\n",
       "    <tr>\n",
       "      <th>9997</th>\n",
       "      <td>U189932</td>\n",
       "      <td>N8991-1</td>\n",
       "    </tr>\n",
       "    <tr>\n",
       "      <th>9998</th>\n",
       "      <td>U189932</td>\n",
       "      <td>N75492-1</td>\n",
       "    </tr>\n",
       "    <tr>\n",
       "      <th>9999</th>\n",
       "      <td>U189932</td>\n",
       "      <td>N41975-0</td>\n",
       "    </tr>\n",
       "  </tbody>\n",
       "</table>\n",
       "</div>"
      ],
      "text/plain": [
       "      User_ID Impression_ID\n",
       "9995  U189932      N16614-1\n",
       "9996  U189932      N35782-0\n",
       "9997  U189932       N8991-1\n",
       "9998  U189932      N75492-1\n",
       "9999  U189932      N41975-0"
      ]
     },
     "execution_count": 32,
     "metadata": {},
     "output_type": "execute_result"
    }
   ],
   "source": [
    "b_df_final.head(10000).tail()"
   ]
  },
  {
   "cell_type": "code",
   "execution_count": 33,
   "id": "951a21ab",
   "metadata": {},
   "outputs": [],
   "source": [
    "b_df_final['Interaction'] = b_df_final['Impression_ID'].str[-1]"
   ]
  },
  {
   "cell_type": "code",
   "execution_count": 34,
   "id": "b434bd02",
   "metadata": {},
   "outputs": [
    {
     "name": "stdout",
     "output_type": "stream",
     "text": [
      "       User_ID Impression_ID Interaction\n",
      "0      U100159      N18539-0           0\n",
      "1      U100159      N83412-0           0\n",
      "2      U100159      N92498-1           1\n",
      "3      U100159      N52079-0           0\n",
      "4      U100159     N115021-0           0\n",
      "...        ...           ...         ...\n",
      "70657   U96536     N117709-1           1\n",
      "70658   U96536      N31043-1           1\n",
      "70659   U96536      N82158-1           1\n",
      "70660   U96536      N58992-1           1\n",
      "70661   U96536     N100832-1           1\n",
      "\n",
      "[70662 rows x 3 columns]\n"
     ]
    }
   ],
   "source": [
    "print(b_df_final)"
   ]
  },
  {
   "cell_type": "code",
   "execution_count": 35,
   "id": "64c311ad",
   "metadata": {},
   "outputs": [],
   "source": [
    "b_df_final['Article_ID'] = b_df_final['Impression_ID'].str[:-2]"
   ]
  },
  {
   "cell_type": "code",
   "execution_count": 36,
   "id": "b8bd2b61",
   "metadata": {},
   "outputs": [
    {
     "name": "stdout",
     "output_type": "stream",
     "text": [
      "       User_ID Impression_ID Interaction Article_ID\n",
      "0      U100159      N18539-0           0     N18539\n",
      "1      U100159      N83412-0           0     N83412\n",
      "2      U100159      N92498-1           1     N92498\n",
      "3      U100159      N52079-0           0     N52079\n",
      "4      U100159     N115021-0           0    N115021\n",
      "...        ...           ...         ...        ...\n",
      "70657   U96536     N117709-1           1    N117709\n",
      "70658   U96536      N31043-1           1     N31043\n",
      "70659   U96536      N82158-1           1     N82158\n",
      "70660   U96536      N58992-1           1     N58992\n",
      "70661   U96536     N100832-1           1    N100832\n",
      "\n",
      "[70662 rows x 4 columns]\n"
     ]
    }
   ],
   "source": [
    "print(b_df_final)"
   ]
  },
  {
   "cell_type": "code",
   "execution_count": 37,
   "id": "78b6a61e",
   "metadata": {},
   "outputs": [
    {
     "data": {
      "text/html": [
       "<div>\n",
       "<style scoped>\n",
       "    .dataframe tbody tr th:only-of-type {\n",
       "        vertical-align: middle;\n",
       "    }\n",
       "\n",
       "    .dataframe tbody tr th {\n",
       "        vertical-align: top;\n",
       "    }\n",
       "\n",
       "    .dataframe thead th {\n",
       "        text-align: right;\n",
       "    }\n",
       "</style>\n",
       "<table border=\"1\" class=\"dataframe\">\n",
       "  <thead>\n",
       "    <tr style=\"text-align: right;\">\n",
       "      <th></th>\n",
       "      <th>User_ID</th>\n",
       "      <th>Interaction</th>\n",
       "      <th>Article_ID</th>\n",
       "    </tr>\n",
       "  </thead>\n",
       "  <tbody>\n",
       "    <tr>\n",
       "      <th>0</th>\n",
       "      <td>U100159</td>\n",
       "      <td>0</td>\n",
       "      <td>N18539</td>\n",
       "    </tr>\n",
       "    <tr>\n",
       "      <th>1</th>\n",
       "      <td>U100159</td>\n",
       "      <td>0</td>\n",
       "      <td>N83412</td>\n",
       "    </tr>\n",
       "    <tr>\n",
       "      <th>2</th>\n",
       "      <td>U100159</td>\n",
       "      <td>1</td>\n",
       "      <td>N92498</td>\n",
       "    </tr>\n",
       "    <tr>\n",
       "      <th>3</th>\n",
       "      <td>U100159</td>\n",
       "      <td>0</td>\n",
       "      <td>N52079</td>\n",
       "    </tr>\n",
       "    <tr>\n",
       "      <th>4</th>\n",
       "      <td>U100159</td>\n",
       "      <td>0</td>\n",
       "      <td>N115021</td>\n",
       "    </tr>\n",
       "    <tr>\n",
       "      <th>...</th>\n",
       "      <td>...</td>\n",
       "      <td>...</td>\n",
       "      <td>...</td>\n",
       "    </tr>\n",
       "    <tr>\n",
       "      <th>70657</th>\n",
       "      <td>U96536</td>\n",
       "      <td>1</td>\n",
       "      <td>N117709</td>\n",
       "    </tr>\n",
       "    <tr>\n",
       "      <th>70658</th>\n",
       "      <td>U96536</td>\n",
       "      <td>1</td>\n",
       "      <td>N31043</td>\n",
       "    </tr>\n",
       "    <tr>\n",
       "      <th>70659</th>\n",
       "      <td>U96536</td>\n",
       "      <td>1</td>\n",
       "      <td>N82158</td>\n",
       "    </tr>\n",
       "    <tr>\n",
       "      <th>70660</th>\n",
       "      <td>U96536</td>\n",
       "      <td>1</td>\n",
       "      <td>N58992</td>\n",
       "    </tr>\n",
       "    <tr>\n",
       "      <th>70661</th>\n",
       "      <td>U96536</td>\n",
       "      <td>1</td>\n",
       "      <td>N100832</td>\n",
       "    </tr>\n",
       "  </tbody>\n",
       "</table>\n",
       "<p>70662 rows × 3 columns</p>\n",
       "</div>"
      ],
      "text/plain": [
       "       User_ID Interaction Article_ID\n",
       "0      U100159           0     N18539\n",
       "1      U100159           0     N83412\n",
       "2      U100159           1     N92498\n",
       "3      U100159           0     N52079\n",
       "4      U100159           0    N115021\n",
       "...        ...         ...        ...\n",
       "70657   U96536           1    N117709\n",
       "70658   U96536           1     N31043\n",
       "70659   U96536           1     N82158\n",
       "70660   U96536           1     N58992\n",
       "70661   U96536           1    N100832\n",
       "\n",
       "[70662 rows x 3 columns]"
      ]
     },
     "execution_count": 37,
     "metadata": {},
     "output_type": "execute_result"
    }
   ],
   "source": [
    "b_df_final.drop(columns = ['Impression_ID'])"
   ]
  },
  {
   "cell_type": "code",
   "execution_count": 38,
   "id": "50fb7139",
   "metadata": {},
   "outputs": [
    {
     "name": "stdout",
     "output_type": "stream",
     "text": [
      "       User_ID Article_ID Interaction\n",
      "0      U100159     N18539           0\n",
      "1      U100159     N83412           0\n",
      "2      U100159     N92498           1\n",
      "3      U100159     N52079           0\n",
      "4      U100159    N115021           0\n",
      "...        ...        ...         ...\n",
      "70657   U96536    N117709           1\n",
      "70658   U96536     N31043           1\n",
      "70659   U96536     N82158           1\n",
      "70660   U96536     N58992           1\n",
      "70661   U96536    N100832           1\n",
      "\n",
      "[70662 rows x 3 columns]\n"
     ]
    }
   ],
   "source": [
    "new_order = ['User_ID', 'Article_ID', 'Interaction']\n",
    "\n",
    "# Reorder the DataFrame columns\n",
    "b_df_final = b_df_final[new_order]\n",
    "\n",
    "print(b_df_final)"
   ]
  },
  {
   "cell_type": "markdown",
   "id": "9418b88c",
   "metadata": {},
   "source": [
    "# Convert User_ID and Article ID to numeric values"
   ]
  },
  {
   "cell_type": "code",
   "execution_count": 39,
   "id": "870dc18f",
   "metadata": {},
   "outputs": [
    {
     "name": "stdout",
     "output_type": "stream",
     "text": [
      "      User_ID Article_ID Interaction\n",
      "0      100159      18539           0\n",
      "1      100159      83412           0\n",
      "2      100159      92498           1\n",
      "3      100159      52079           0\n",
      "4      100159     115021           0\n",
      "...       ...        ...         ...\n",
      "70657   96536     117709           1\n",
      "70658   96536      31043           1\n",
      "70659   96536      82158           1\n",
      "70660   96536      58992           1\n",
      "70661   96536     100832           1\n",
      "\n",
      "[70662 rows x 3 columns]\n"
     ]
    }
   ],
   "source": [
    "b_df_final['Article_ID'] = b_df_final['Article_ID'].str.lstrip('N')\n",
    "b_df_final['User_ID'] = b_df_final['User_ID'].str.lstrip('U')\n",
    "print(b_df_final)"
   ]
  },
  {
   "cell_type": "code",
   "execution_count": 40,
   "id": "90a5c769",
   "metadata": {},
   "outputs": [
    {
     "name": "stdout",
     "output_type": "stream",
     "text": [
      "      User_ID      Article_ID Interaction\n",
      "38179  454695  91865-0,N91865           0\n"
     ]
    }
   ],
   "source": [
    "#check for errors\n",
    "mask = b_df_final['Article_ID'].str.len() > 6\n",
    "filtered_df = b_df_final[mask]\n",
    "print(filtered_df)"
   ]
  },
  {
   "cell_type": "code",
   "execution_count": 41,
   "id": "cfe9ddb8",
   "metadata": {},
   "outputs": [],
   "source": [
    "b_df_final = b_df_final.drop(38177)"
   ]
  },
  {
   "cell_type": "code",
   "execution_count": 42,
   "id": "2192b57a",
   "metadata": {},
   "outputs": [
    {
     "name": "stdout",
     "output_type": "stream",
     "text": [
      "      User_ID Article_ID Interaction\n",
      "0      100159      18539           0\n",
      "1      100159      83412           0\n",
      "2      100159      92498           1\n",
      "3      100159      52079           0\n",
      "4      100159     115021           0\n",
      "...       ...        ...         ...\n",
      "70657   96536     117709           1\n",
      "70658   96536      31043           1\n",
      "70659   96536      82158           1\n",
      "70660   96536      58992           1\n",
      "70661   96536     100832           1\n",
      "\n",
      "[70661 rows x 3 columns]\n"
     ]
    }
   ],
   "source": [
    "print(b_df_final)"
   ]
  },
  {
   "cell_type": "code",
   "execution_count": 43,
   "id": "d8ed1982",
   "metadata": {
    "scrolled": true
   },
   "outputs": [],
   "source": [
    "# Convert columns to numeric\n",
    "b_df_final['User_ID'] = pd.to_numeric(b_df_final['User_ID'], errors='coerce')\n",
    "b_df_final['Article_ID'] = pd.to_numeric(b_df_final['Article_ID'], errors='coerce')\n",
    "b_df_final['Interaction'] = pd.to_numeric(b_df_final['Interaction'], errors='coerce')"
   ]
  },
  {
   "cell_type": "code",
   "execution_count": 44,
   "id": "7bf9d3b3",
   "metadata": {},
   "outputs": [
    {
     "data": {
      "text/plain": [
       "User_ID        0\n",
       "Article_ID     1\n",
       "Interaction    0\n",
       "dtype: int64"
      ]
     },
     "execution_count": 44,
     "metadata": {},
     "output_type": "execute_result"
    }
   ],
   "source": [
    "b_df_final.isnull().sum()"
   ]
  },
  {
   "cell_type": "code",
   "execution_count": 45,
   "id": "4bc49829",
   "metadata": {},
   "outputs": [],
   "source": [
    "b_df_final = b_df_final.dropna()"
   ]
  },
  {
   "cell_type": "code",
   "execution_count": 46,
   "id": "4ff33d8b",
   "metadata": {},
   "outputs": [
    {
     "name": "stdout",
     "output_type": "stream",
     "text": [
      "(70660, 3)\n"
     ]
    }
   ],
   "source": [
    "print(b_df_final.shape)"
   ]
  },
  {
   "cell_type": "code",
   "execution_count": 47,
   "id": "3bc8767a",
   "metadata": {},
   "outputs": [
    {
     "name": "stdout",
     "output_type": "stream",
     "text": [
      "       User_ID  Article_ID  Interaction\n",
      "0       100159     18539.0            0\n",
      "1       100159     83412.0            0\n",
      "2       100159     92498.0            1\n",
      "3       100159     52079.0            0\n",
      "4       100159    115021.0            0\n",
      "...        ...         ...          ...\n",
      "70657    96536    117709.0            1\n",
      "70658    96536     31043.0            1\n",
      "70659    96536     82158.0            1\n",
      "70660    96536     58992.0            1\n",
      "70661    96536    100832.0            1\n",
      "\n",
      "[70660 rows x 3 columns]\n"
     ]
    },
    {
     "data": {
      "text/plain": [
       "User_ID          int64\n",
       "Article_ID     float64\n",
       "Interaction      int64\n",
       "dtype: object"
      ]
     },
     "execution_count": 47,
     "metadata": {},
     "output_type": "execute_result"
    }
   ],
   "source": [
    "print(b_df_final)\n",
    "b_df_final.dtypes"
   ]
  },
  {
   "cell_type": "code",
   "execution_count": 48,
   "id": "42225ee6",
   "metadata": {},
   "outputs": [],
   "source": [
    "user_item_matrix = b_df_final.pivot_table(index='User_ID', columns='Article_ID', values='Interaction')"
   ]
  },
  {
   "cell_type": "code",
   "execution_count": 49,
   "id": "d7a5f423",
   "metadata": {},
   "outputs": [
    {
     "name": "stdout",
     "output_type": "stream",
     "text": [
      "Article_ID  14.0      39.0      60.0      62.0      68.0      75.0      \\\n",
      "User_ID                                                                  \n",
      "1911             NaN       1.0       NaN       NaN       NaN       NaN   \n",
      "2541             NaN       NaN       NaN       NaN       NaN       NaN   \n",
      "2961             NaN       NaN       NaN       NaN       NaN       NaN   \n",
      "3758             NaN       NaN       NaN       NaN       NaN       NaN   \n",
      "5812             NaN       NaN       NaN       NaN       NaN       NaN   \n",
      "...              ...       ...       ...       ...       ...       ...   \n",
      "707491           NaN       NaN       NaN       NaN       NaN       NaN   \n",
      "707631           NaN       NaN       NaN       NaN       NaN       NaN   \n",
      "709048           NaN       NaN       NaN       NaN       NaN       NaN   \n",
      "710638           NaN       NaN       NaN       NaN       NaN       NaN   \n",
      "710997           NaN       NaN       NaN       NaN       NaN       NaN   \n",
      "\n",
      "Article_ID  80.0      91.0      99.0      100.0     ...  130251.0  130260.0  \\\n",
      "User_ID                                             ...                       \n",
      "1911             NaN       NaN       NaN       NaN  ...       NaN       NaN   \n",
      "2541             NaN       NaN       NaN       NaN  ...       NaN       NaN   \n",
      "2961             NaN       NaN       NaN       NaN  ...       NaN       NaN   \n",
      "3758             NaN       NaN       NaN       NaN  ...       NaN       NaN   \n",
      "5812             NaN       NaN       NaN       NaN  ...       NaN       NaN   \n",
      "...              ...       ...       ...       ...  ...       ...       ...   \n",
      "707491           NaN       NaN       NaN       NaN  ...       NaN       NaN   \n",
      "707631           NaN       NaN       NaN       NaN  ...       NaN       NaN   \n",
      "709048           NaN       NaN       NaN       NaN  ...       NaN       NaN   \n",
      "710638           NaN       NaN       NaN       NaN  ...       NaN       NaN   \n",
      "710997           NaN       NaN       NaN       NaN  ...       NaN       NaN   \n",
      "\n",
      "Article_ID  130263.0  130265.0  130269.0  130283.0  130288.0  130296.0  \\\n",
      "User_ID                                                                  \n",
      "1911             NaN       NaN       NaN       NaN       NaN       NaN   \n",
      "2541             NaN       NaN       NaN       NaN       NaN       NaN   \n",
      "2961             NaN       NaN       NaN       NaN       NaN       NaN   \n",
      "3758             NaN       NaN       NaN       NaN       NaN       NaN   \n",
      "5812             NaN       NaN       NaN       NaN       NaN       NaN   \n",
      "...              ...       ...       ...       ...       ...       ...   \n",
      "707491           NaN       NaN       NaN       NaN       NaN       NaN   \n",
      "707631           NaN       NaN       NaN       NaN       NaN       NaN   \n",
      "709048           NaN       NaN       NaN       NaN       NaN       NaN   \n",
      "710638           NaN       NaN       NaN       NaN       NaN       NaN   \n",
      "710997           NaN       NaN       NaN       NaN       NaN       NaN   \n",
      "\n",
      "Article_ID  130326.0  130365.0  \n",
      "User_ID                         \n",
      "1911             NaN       NaN  \n",
      "2541             NaN       NaN  \n",
      "2961             NaN       NaN  \n",
      "3758             NaN       NaN  \n",
      "5812             NaN       NaN  \n",
      "...              ...       ...  \n",
      "707491           NaN       NaN  \n",
      "707631           NaN       NaN  \n",
      "709048           NaN       NaN  \n",
      "710638           NaN       NaN  \n",
      "710997           NaN       NaN  \n",
      "\n",
      "[975 rows x 12673 columns]\n"
     ]
    }
   ],
   "source": [
    "print(user_item_matrix)"
   ]
  },
  {
   "cell_type": "markdown",
   "id": "33176ff2",
   "metadata": {},
   "source": [
    "# Import Model Packages"
   ]
  },
  {
   "cell_type": "markdown",
   "id": "266d5e1b",
   "metadata": {},
   "source": [
    "Collaborative filtering with ALS"
   ]
  },
  {
   "cell_type": "code",
   "execution_count": 50,
   "id": "56df5ae2",
   "metadata": {},
   "outputs": [],
   "source": [
    "from pyspark.ml.evaluation import RegressionEvaluator\n",
    "from pyspark.ml.recommendation import ALS\n",
    "from pyspark.ml.tuning import TrainValidationSplit, ParamGridBuilder"
   ]
  },
  {
   "cell_type": "code",
   "execution_count": 51,
   "id": "4938043a",
   "metadata": {},
   "outputs": [],
   "source": [
    "from pyspark.sql import SparkSession\n",
    "import os\n",
    "import sys\n",
    "\n",
    "os.environ['PYSPARK_PYTHON'] = sys.executable\n",
    "os.environ['PYSPARK_DRIVER_PYTHON'] = sys.executable\n",
    "\n",
    "# Initialize Spark session\n",
    "\n",
    "spark = SparkSession.builder \\\n",
    "    .appName(\"ALSExample\") \\\n",
    "    .config(\"spark.executor.memory\", \"4g\") \\\n",
    "    .config(\"spark.driver.memory\", \"4g\") \\\n",
    "    .config(\"spark.executor.cores\", \"2\") \\\n",
    "    .config(\"spark.driver.cores\", \"2\") \\\n",
    "    .getOrCreate()\n",
    "\n",
    "# Initialize Spark session\n",
    "#spark = SparkSession.builder.appName(\"recommendation_system\").getOrCreate()\n",
    "\n",
    "# Convert pandas dataframe to spark dataframe\n",
    "df = spark.createDataFrame(b_df_final)"
   ]
  },
  {
   "cell_type": "markdown",
   "id": "892c9151",
   "metadata": {},
   "source": [
    "# Splitting, Training, and Evaluating the Model"
   ]
  },
  {
   "cell_type": "code",
   "execution_count": 52,
   "id": "f8b6ab1a",
   "metadata": {},
   "outputs": [],
   "source": [
    "#Create test and train set\n",
    "(training, test) = df.randomSplit([0.8, 0.2])\n",
    "\n",
    "#Create ALS model\n",
    "als = ALS(userCol='User_ID', itemCol='Article_ID', ratingCol='Interaction', \n",
    "         coldStartStrategy='drop', nonnegative = True)"
   ]
  },
  {
   "cell_type": "code",
   "execution_count": 53,
   "id": "eb268209",
   "metadata": {},
   "outputs": [],
   "source": [
    "#Tune model using ParamGridBuilder\n",
    "param_grid = ParamGridBuilder()\\\n",
    "        .addGrid(als.rank, [12, 13, 14])\\\n",
    "        .addGrid(als.maxIter, [18,19,20])\\\n",
    "        .addGrid(als.regParam, [.17, .18, .19])\\\n",
    "        .build()\n",
    "#Define evaluator as RMSE\n",
    "evaluator = RegressionEvaluator(metricName='rmse', labelCol='Interaction', predictionCol='prediction')\n",
    "\n",
    "#Build cross validation using TrainValidationSplit\n",
    "tvs = TrainValidationSplit(estimator=als, estimatorParamMaps=param_grid, evaluator=evaluator)"
   ]
  },
  {
   "cell_type": "code",
   "execution_count": 54,
   "id": "a82e1893",
   "metadata": {},
   "outputs": [],
   "source": [
    "#Fit ALS model to training data\n",
    "model = tvs.fit(training)"
   ]
  },
  {
   "cell_type": "code",
   "execution_count": 55,
   "id": "a05f685a",
   "metadata": {},
   "outputs": [],
   "source": [
    "#Extract best model from the tuning exercise using ParamGridBuilder\n",
    "best_model = model.bestModel"
   ]
  },
  {
   "cell_type": "code",
   "execution_count": 57,
   "id": "2d2bc634",
   "metadata": {},
   "outputs": [],
   "source": [
    "#Generate predictions and evaluate using RMSE\n",
    "predictions = best_model.transform(test)"
   ]
  },
  {
   "cell_type": "code",
   "execution_count": 59,
   "id": "245cb3b3",
   "metadata": {},
   "outputs": [],
   "source": [
    "rmse = evaluator.evaluate(predictions)"
   ]
  },
  {
   "cell_type": "code",
   "execution_count": 61,
   "id": "1af16863",
   "metadata": {},
   "outputs": [
    {
     "name": "stdout",
     "output_type": "stream",
     "text": [
      "RMSE = 0.2603147310499995\n",
      "**Best Model**\n",
      " Rank: 14\n",
      " MaxIter: 19\n",
      " RegParam: 0.17\n"
     ]
    }
   ],
   "source": [
    "# Print evaluation metrics\n",
    "print('RMSE =', rmse)\n",
    "\n",
    "# Print model parameters\n",
    "print('**Best Model**')\n",
    "\n",
    "# Check the type of best_model to determine if it has the attributes you are looking for\n",
    "print(' Rank:', getattr(best_model, 'rank', 'N/A'))\n",
    "print(' MaxIter:', getattr(best_model._java_obj.parent(), 'getMaxIter', lambda: 'N/A')())\n",
    "print(' RegParam:', getattr(best_model._java_obj.parent(), 'getRegParam', lambda: 'N/A')())"
   ]
  },
  {
   "cell_type": "markdown",
   "id": "806ff167",
   "metadata": {},
   "source": [
    "Note on creating dummy features and standardizing/scaling the data:\n",
    "\n",
    "In this case Using dummy features on binary data would not make sense. Binary data only has two possible values represening a click or no click on an article in this case. They are already interpretable and there is no need to convert them to dummy variables which would just duplicate the information and not add value. \n",
    "\n",
    "Additionally, scaling already binary data would not have any effect, and standardizing  binary data is not necessary and may in fact negatively impact our model by distoring the interpretation of the binary values. "
   ]
  }
 ],
 "metadata": {
  "kernelspec": {
   "display_name": "Python 3 (ipykernel)",
   "language": "python",
   "name": "python3"
  },
  "language_info": {
   "codemirror_mode": {
    "name": "ipython",
    "version": 3
   },
   "file_extension": ".py",
   "mimetype": "text/x-python",
   "name": "python",
   "nbconvert_exporter": "python",
   "pygments_lexer": "ipython3",
   "version": "3.11.5"
  }
 },
 "nbformat": 4,
 "nbformat_minor": 5
}
